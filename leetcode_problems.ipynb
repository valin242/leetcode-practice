{
 "cells": [
  {
   "cell_type": "markdown",
   "metadata": {},
   "source": [
    "**557. Reverse Words in a String III**"
   ]
  },
  {
   "cell_type": "code",
   "execution_count": 1,
   "metadata": {},
   "outputs": [
    {
     "name": "stdout",
     "output_type": "stream",
     "text": [
      "6\n",
      "9\n"
     ]
    }
   ],
   "source": [
    "s = \"Let's go now\"\n",
    "lastSpaceIndex = -1 #initialized to -1 to account for the first word that's at index 0\n",
    "for i in range(len(s)):\n",
    "  strIndex = s[i]\n",
    "  if strIndex == \" \":\n",
    "    lastSpaceIndex = i + 1\n",
    "    print(lastSpaceIndex)"
   ]
  },
  {
   "cell_type": "markdown",
   "metadata": {},
   "source": [
    "**344. Reverse String**\n",
    "\n",
    "Write a function that reverses a string. The input string is given as an array of characters s.\n",
    "\n",
    "You must do this by modifying the input array in-place with O(1) extra memory."
   ]
  },
  {
   "cell_type": "code",
   "execution_count": 2,
   "metadata": {},
   "outputs": [
    {
     "name": "stdout",
     "output_type": "stream",
     "text": [
      "['o', 'l', 'l', 'e', 'h']\n"
     ]
    }
   ],
   "source": [
    "\"\"\"\n",
    "How would you tackle this problem?\n",
    "To modify the characters of s, while not creating a new variable to store s.\n",
    "\n",
    "index value of x is 0 -> 4\n",
    "To reverse the entire string, inside a for loop I can set s = [-i] for n+1 which\n",
    "will asigne the last letter frist in the string. Usually assign it to a new\n",
    "variable.\n",
    "To modify it in place, try...index reassignment?\n",
    "No need to do it by brute force if there's already a function for it. May be\n",
    "worth trying to understand though\n",
    "\"\"\"\n",
    "s = [\"h\",\"e\",\"l\",\"l\",\"o\"]\n",
    "s.reverse()\n",
    "print(s)"
   ]
  },
  {
   "cell_type": "code",
   "execution_count": null,
   "metadata": {},
   "outputs": [],
   "source": [
    "# trying to simultaneously swap index values"
   ]
  },
  {
   "cell_type": "markdown",
   "metadata": {},
   "source": [
    "**1512. Number of Good Pairs**"
   ]
  },
  {
   "cell_type": "code",
   "execution_count": 3,
   "metadata": {},
   "outputs": [
    {
     "name": "stdout",
     "output_type": "stream",
     "text": [
      "4\n"
     ]
    }
   ],
   "source": [
    "nums = [1,2,3,1,1,3]\n",
    "res = 0\n",
    "for i in range(len(nums)):\n",
    "    l, r = i, i\n",
    "    while l >= 0 and r < len(nums):\n",
    "      if nums[l] == nums[r]:\n",
    "        if l < r:\n",
    "          res +=1\n",
    "      r += 1\n",
    "print(res)"
   ]
  },
  {
   "cell_type": "markdown",
   "metadata": {},
   "source": [
    "**1929. Concatenation of Array**\n",
    "\n",
    "Input: nums = [1,2,1]\n",
    "Output: [1,2,1,1,2,1]\n",
    "Explanation: The array ans is formed as follows:\n",
    "- ans = [nums[0],nums[1],nums[2],nums[0],nums[1],nums[2]]\n",
    "- ans = [1,2,1,1,2,1]"
   ]
  },
  {
   "cell_type": "code",
   "execution_count": 4,
   "metadata": {},
   "outputs": [
    {
     "name": "stdout",
     "output_type": "stream",
     "text": [
      "[1, 3, 2, 1, 1, 3, 2, 1]\n"
     ]
    }
   ],
   "source": [
    "nums = [1,3,2,1]\n",
    "n = len(nums)\n",
    "ans = []\n",
    "for i in range(len(nums)):\n",
    "  ans.insert(i,nums[i])\n",
    "  ans.insert(i+n,nums[i])\n",
    "print(ans)\n",
    "\n",
    "# alternatively you can just set ans = nums, then do ans.insert(i+n, nums[i])"
   ]
  },
  {
   "cell_type": "markdown",
   "metadata": {},
   "source": [
    "**1920. Build Array from Permutation**\n",
    "\n",
    "Given a zero-based permutation nums (0-indexed), build an array ans of the same length where ans[i] = nums[nums[i]] for each 0 <= i < nums.length and return it.\n",
    "\n",
    "A zero-based permutation nums is an array of distinct integers from 0 to nums.length - 1 (inclusive).\n"
   ]
  },
  {
   "cell_type": "code",
   "execution_count": 5,
   "metadata": {},
   "outputs": [
    {
     "name": "stdout",
     "output_type": "stream",
     "text": [
      "[4]\n",
      "[4, 5]\n",
      "[4, 5, 0]\n",
      "[4, 5, 0, 1]\n",
      "[4, 5, 0, 1, 2]\n",
      "[4, 5, 0, 1, 2, 3]\n"
     ]
    }
   ],
   "source": [
    "nums = [5,0,1,2,3,4]\n",
    "n = len(nums)\n",
    "ans = []\n",
    "for i in range(n):\n",
    "  ans.append(nums[nums[i]])\n",
    "  print(ans)\n",
    "\n",
    "# there may be a way to do this with to save memory. Attack again after getting a better understanding of algorithms"
   ]
  },
  {
   "cell_type": "markdown",
   "metadata": {},
   "source": [
    "**1108. Defanging an IP Address**\n",
    "Given a valid (IPv4) IP address, return a defanged version of that IP address.\n",
    "\n",
    "A defanged IP address replaces every period \".\" with \"[.]\"."
   ]
  },
  {
   "cell_type": "code",
   "execution_count": 6,
   "metadata": {},
   "outputs": [
    {
     "name": "stdout",
     "output_type": "stream",
     "text": [
      "255[.]100[.]50[.]0\n"
     ]
    }
   ],
   "source": [
    "address = \"255.100.50.0\"\n",
    "n = len(address)\n",
    "newAdd = \"\"\n",
    "for i in range(n):\n",
    "  if address[i] != \".\":\n",
    "    newAdd = newAdd + address[i]\n",
    "  else:\n",
    "    newAdd = newAdd + \"[.]\"\n",
    "print(newAdd)"
   ]
  },
  {
   "cell_type": "markdown",
   "metadata": {},
   "source": [
    "**2879. Display the First Three Rows**\n",
    "\n",
    "DataFrame: employees\n",
    "+-------------+--------+\n",
    "| Column Name | Type   |\n",
    "+-------------+--------+\n",
    "| employee_id | int    |\n",
    "| name        | object |\n",
    "| department  | object |\n",
    "| salary      | int    |\n",
    "+-------------+--------+\n",
    "Write a solution to display the first 3 rows of this DataFrame."
   ]
  },
  {
   "cell_type": "code",
   "execution_count": 1,
   "metadata": {},
   "outputs": [
    {
     "data": {
      "text/html": [
       "<div>\n",
       "<style scoped>\n",
       "    .dataframe tbody tr th:only-of-type {\n",
       "        vertical-align: middle;\n",
       "    }\n",
       "\n",
       "    .dataframe tbody tr th {\n",
       "        vertical-align: top;\n",
       "    }\n",
       "\n",
       "    .dataframe thead th {\n",
       "        text-align: right;\n",
       "    }\n",
       "</style>\n",
       "<table border=\"1\" class=\"dataframe\">\n",
       "  <thead>\n",
       "    <tr style=\"text-align: right;\">\n",
       "      <th></th>\n",
       "      <th>employee_id</th>\n",
       "      <th>name</th>\n",
       "      <th>department</th>\n",
       "      <th>salary</th>\n",
       "    </tr>\n",
       "  </thead>\n",
       "  <tbody>\n",
       "    <tr>\n",
       "      <th>0</th>\n",
       "      <td>3</td>\n",
       "      <td>Bob</td>\n",
       "      <td>operations</td>\n",
       "      <td>48675</td>\n",
       "    </tr>\n",
       "    <tr>\n",
       "      <th>1</th>\n",
       "      <td>90</td>\n",
       "      <td>Alice</td>\n",
       "      <td>sales</td>\n",
       "      <td>11096</td>\n",
       "    </tr>\n",
       "    <tr>\n",
       "      <th>2</th>\n",
       "      <td>9</td>\n",
       "      <td>Tatiana</td>\n",
       "      <td>engineering</td>\n",
       "      <td>33805</td>\n",
       "    </tr>\n",
       "  </tbody>\n",
       "</table>\n",
       "</div>"
      ],
      "text/plain": [
       "   employee_id     name   department  salary\n",
       "0            3      Bob   operations   48675\n",
       "1           90    Alice        sales   11096\n",
       "2            9  Tatiana  engineering   33805"
      ]
     },
     "execution_count": 1,
     "metadata": {},
     "output_type": "execute_result"
    }
   ],
   "source": [
    "import pandas as pd\n",
    "\n",
    "df = pd.DataFrame(\n",
    "    {\n",
    "        \"employee_id\": [3, 90, 9, 60, 49, 43],\n",
    "        \"name\": [\"Bob\", \"Alice\", \"Tatiana\", \"Anabelle\", \"Jonathan\", \"Khaled\"],\n",
    "        \"department\": [\"operations\", \"sales\", \"engineering\", \"IT\", \"HR\", \"Admin\"],\n",
    "        \"salary\": [48675, 11096, 33805, 37678, 23793, 40454],\n",
    "    }\n",
    ")\n",
    "\n",
    "def selectFirstRows(employees: pd.DataFrame) -> pd.DataFrame:\n",
    "    frst_3_rows = employees.head(3)\n",
    "    return frst_3_rows\n",
    "\n",
    "emp = selectFirstRows(df)\n",
    "emp"
   ]
  },
  {
   "cell_type": "markdown",
   "metadata": {},
   "source": [
    "**2884. Modify Columns**\n",
    "\n",
    "A company intends to give its employees a pay rise.\n",
    "\n",
    "Write a solution to modify the salary column by multiplying each salary by 2.\n",
    "\n",
    "The result format is in the following example."
   ]
  },
  {
   "cell_type": "code",
   "execution_count": 47,
   "metadata": {},
   "outputs": [
    {
     "data": {
      "text/html": [
       "<div>\n",
       "<style scoped>\n",
       "    .dataframe tbody tr th:only-of-type {\n",
       "        vertical-align: middle;\n",
       "    }\n",
       "\n",
       "    .dataframe tbody tr th {\n",
       "        vertical-align: top;\n",
       "    }\n",
       "\n",
       "    .dataframe thead th {\n",
       "        text-align: right;\n",
       "    }\n",
       "</style>\n",
       "<table border=\"1\" class=\"dataframe\">\n",
       "  <thead>\n",
       "    <tr style=\"text-align: right;\">\n",
       "      <th></th>\n",
       "      <th>name</th>\n",
       "      <th>salary</th>\n",
       "    </tr>\n",
       "  </thead>\n",
       "  <tbody>\n",
       "    <tr>\n",
       "      <th>0</th>\n",
       "      <td>jack</td>\n",
       "      <td>39332</td>\n",
       "    </tr>\n",
       "    <tr>\n",
       "      <th>1</th>\n",
       "      <td>piper</td>\n",
       "      <td>149508</td>\n",
       "    </tr>\n",
       "    <tr>\n",
       "      <th>2</th>\n",
       "      <td>mia</td>\n",
       "      <td>125018</td>\n",
       "    </tr>\n",
       "    <tr>\n",
       "      <th>3</th>\n",
       "      <td>ulysses</td>\n",
       "      <td>109732</td>\n",
       "    </tr>\n",
       "  </tbody>\n",
       "</table>\n",
       "</div>"
      ],
      "text/plain": [
       "      name  salary\n",
       "0     jack   39332\n",
       "1    piper  149508\n",
       "2      mia  125018\n",
       "3  ulysses  109732"
      ]
     },
     "execution_count": 47,
     "metadata": {},
     "output_type": "execute_result"
    }
   ],
   "source": [
    "df = pd.DataFrame(\n",
    "    {\n",
    "        \"name\": ['jack', 'piper', 'mia', 'ulysses'],\n",
    "        \"salary\": [19666, 74754, 62509, 54866],\n",
    "    }\n",
    ")\n",
    "\n",
    "def modifySalaryColumn(employees: pd.DataFrame) -> pd.DataFrame:\n",
    "    employees.iloc[:,1] = employees.iloc[:,1]*2\n",
    "    return employees\n",
    "\n",
    "emp_2884 = modifySalaryColumn(df)\n",
    "emp_2884"
   ]
  },
  {
   "cell_type": "markdown",
   "metadata": {},
   "source": [
    "**977. Squares of a Sorted Array**\n",
    "\n",
    "Given an integer array nums sorted in non-decreasing order, return an array of the squares of each number sorted in non-decreasing order."
   ]
  },
  {
   "cell_type": "code",
   "execution_count": 64,
   "metadata": {},
   "outputs": [
    {
     "data": {
      "text/plain": [
       "[0, 1, 9, 16, 100]"
      ]
     },
     "execution_count": 64,
     "metadata": {},
     "output_type": "execute_result"
    }
   ],
   "source": [
    "nums = [-4,-1,0,3,10]\n",
    "\n",
    "class Solution(object):\n",
    "    def sortedSquares(self, nums):\n",
    "        squares = [num**2 for num in nums]\n",
    "        squares.sort()\n",
    "        return squares\n",
    "\n",
    "sorted_977 = Solution().sortedSquares(nums)\n",
    "sorted_977"
   ]
  },
  {
   "cell_type": "markdown",
   "metadata": {},
   "source": [
    "**1757. Recyclable and Low Fat Products**\n",
    "\n",
    "Write a solution to find the ids of products that are both low fat and recyclable.\n",
    "\n",
    "Return the result table in any order.\n",
    "\n",
    "The result format is in the following example."
   ]
  },
  {
   "cell_type": "code",
   "execution_count": 71,
   "metadata": {},
   "outputs": [
    {
     "data": {
      "text/html": [
       "<div>\n",
       "<style scoped>\n",
       "    .dataframe tbody tr th:only-of-type {\n",
       "        vertical-align: middle;\n",
       "    }\n",
       "\n",
       "    .dataframe tbody tr th {\n",
       "        vertical-align: top;\n",
       "    }\n",
       "\n",
       "    .dataframe thead th {\n",
       "        text-align: right;\n",
       "    }\n",
       "</style>\n",
       "<table border=\"1\" class=\"dataframe\">\n",
       "  <thead>\n",
       "    <tr style=\"text-align: right;\">\n",
       "      <th></th>\n",
       "      <th>product_id</th>\n",
       "    </tr>\n",
       "  </thead>\n",
       "  <tbody>\n",
       "    <tr>\n",
       "      <th>1</th>\n",
       "      <td>1</td>\n",
       "    </tr>\n",
       "    <tr>\n",
       "      <th>3</th>\n",
       "      <td>3</td>\n",
       "    </tr>\n",
       "  </tbody>\n",
       "</table>\n",
       "</div>"
      ],
      "text/plain": [
       "   product_id\n",
       "1           1\n",
       "3           3"
      ]
     },
     "execution_count": 71,
     "metadata": {},
     "output_type": "execute_result"
    }
   ],
   "source": [
    "# import pandas as pd\n",
    "table = pd.DataFrame(\n",
    "    {\n",
    "        'product_id': [0,1,2,3,4],\n",
    "        'low_fats': ['Y','Y','N','Y','N'],\n",
    "        'recyclable': ['N','Y','Y','Y','N'],\n",
    "    }\n",
    ")\n",
    "\n",
    "def find_products(products: pd.DataFrame) -> pd.DataFrame:\n",
    "    ind = []\n",
    "    for index, (fats, rec) in enumerate(zip(products['low_fats'], products['recyclable'])): # you can iterate to variables on two separate columns simultaneously\n",
    "        if fats == 'Y' and rec == 'Y':\n",
    "            ind.append(index) \n",
    "    return products.iloc[ind, [0]] # include the square brackets around the column index to return a dataFrame instead of a Series\n",
    "\n",
    "\n",
    "\n",
    "        # products.iloc[ind]\n",
    "\n",
    "both_low = find_products(table)\n",
    "both_low\n",
    "\n",
    "\n",
    "\n",
    "# Troubleshooting code\n",
    "# ----------------------------------------------------------------------------------------------------------------------------------------------------\n",
    "# for index, (fats, rec) in enumerate(zip(table['low_fats'], table['recyclable'])): # you can iterate to variables on two separate columns simultaneously\n",
    "#     if fats == 'Y' and rec == 'Y':\n",
    "#         print(index)\n",
    "\n",
    "# for i in table.iloc[:,1]:\n",
    "#     if i == 'Y':\n",
    "#         index = table[table.iloc[:,1] == 'Y'].index[0]\n",
    "#         print(index)\n",
    "\n"
   ]
  }
 ],
 "metadata": {
  "kernelspec": {
   "display_name": "Python 3",
   "language": "python",
   "name": "python3"
  },
  "language_info": {
   "codemirror_mode": {
    "name": "ipython",
    "version": 3
   },
   "file_extension": ".py",
   "mimetype": "text/x-python",
   "name": "python",
   "nbconvert_exporter": "python",
   "pygments_lexer": "ipython3",
   "version": "3.10.3"
  }
 },
 "nbformat": 4,
 "nbformat_minor": 2
}
