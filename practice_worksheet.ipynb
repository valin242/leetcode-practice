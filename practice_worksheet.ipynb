{
 "cells": [
  {
   "cell_type": "markdown",
   "metadata": {},
   "source": [
    "**Testing Reversing a String**"
   ]
  },
  {
   "cell_type": "code",
   "execution_count": 1,
   "metadata": {},
   "outputs": [
    {
     "name": "stdout",
     "output_type": "stream",
     "text": [
      "!gnirts siht esreveR\n"
     ]
    }
   ],
   "source": [
    "s = \"Reverse this string!\"\n",
    "n = len(s)\n",
    "new_s = \"\"\n",
    "for i in range(n+1):\n",
    "  if i != 0:\n",
    "    new_s = new_s + s[-i]\n",
    "'''for i in range(n):\n",
    "  if i != 0:\n",
    "    new_s = new_s + s[-i] # assigning negative index reverses the string but you still have to deal with the first letter which is 0 and -0 = 0\n",
    "new_s = new_s + s[0] # this is one way to get around that first letter\n",
    "'''\n",
    "\"\"\"\n",
    "Alternative you can assign new indexx values to the string and then start at i = 1 and iterate over that.\n",
    "Not sure how to do that yet but will look into it. Does this take into account all possible edge cases?\n",
    "Actually, I can just start with -1 and do -(n+1) to get the first character to work. so n = len(s)+1\n",
    "O(n) time complexity (linear) O(n) space?\n",
    "\"\"\"\n",
    "print(new_s)"
   ]
  },
  {
   "cell_type": "code",
   "execution_count": 2,
   "metadata": {},
   "outputs": [
    {
     "name": "stdout",
     "output_type": "stream",
     "text": [
      " string!\n"
     ]
    }
   ],
   "source": [
    "\"\"\"\n",
    "Let's say I wanted to change individual words, then I can splice based on index.\n",
    "s[0:2] would give me 'Re' as the output\n",
    "So I should identify the range of index for each word (it ends where the space starts).\n",
    "Take into account edge cases (beginning and end of sentence).\n",
    "If you assign each string to a list, you can consider replacing elements or strings in that list to save memory instead of making a whole new one\n",
    "\"\"\"\n",
    "spaceIndex = [0]\n",
    "l = len(s)\n",
    "rev_s = \"\"\n",
    "for i in range(l):\n",
    "  while i < l:\n",
    "    if s[i] == \" \":\n",
    "      spaceIndex.append(i)\n",
    "      i += 1\n",
    "    else:\n",
    "      i += 1\n",
    "  else: break\n",
    "word1 = s[spaceIndex[2]:]\n",
    "print(word1)"
   ]
  },
  {
   "cell_type": "code",
   "execution_count": 3,
   "metadata": {},
   "outputs": [
    {
     "name": "stdout",
     "output_type": "stream",
     "text": [
      "siht\n"
     ]
    }
   ],
   "source": [
    "s_lst = s.split(\" \")\n",
    "e_1 = s_lst[1]\n",
    "e_1_new = \"\"\n",
    "for i in range(len(e_1)+1):\n",
    "  if i > 0:\n",
    "    e_1_new += e_1[-i]\n",
    "print(e_1_new)"
   ]
  },
  {
   "cell_type": "code",
   "execution_count": null,
   "metadata": {},
   "outputs": [],
   "source": []
  }
 ],
 "metadata": {
  "kernelspec": {
   "display_name": "Python 3",
   "language": "python",
   "name": "python3"
  },
  "language_info": {
   "codemirror_mode": {
    "name": "ipython",
    "version": 3
   },
   "file_extension": ".py",
   "mimetype": "text/x-python",
   "name": "python",
   "nbconvert_exporter": "python",
   "pygments_lexer": "ipython3",
   "version": "3.10.3"
  }
 },
 "nbformat": 4,
 "nbformat_minor": 2
}
